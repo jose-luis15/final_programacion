{
  "nbformat": 4,
  "nbformat_minor": 0,
  "metadata": {
    "colab": {
      "name": "Untitled",
      "version": "0.3.2",
      "provenance": [],
      "include_colab_link": true
    },
    "kernelspec": {
      "name": "python3",
      "display_name": "Python 3"
    }
  },
  "cells": [
    {
      "cell_type": "markdown",
      "metadata": {
        "id": "view-in-github",
        "colab_type": "text"
      },
      "source": [
        "<a href=\"https://colab.research.google.com/github/jose-luis15/final_programacion/blob/master/examen_final.ipynb\" target=\"_parent\"><img src=\"https://colab.research.google.com/assets/colab-badge.svg\" alt=\"Open In Colab\"/></a>"
      ]
    },
    {
      "cell_type": "code",
      "metadata": {
        "id": "-EDkU59Y2Ki9",
        "colab_type": "code",
        "colab": {}
      },
      "source": [
        ""
      ],
      "execution_count": 0,
      "outputs": []
    },
    {
      "cell_type": "markdown",
      "metadata": {
        "id": "U_7Gh9z62Ztd",
        "colab_type": "text"
      },
      "source": [
        "COLAB: es tipo una red social que tiene lapropiedad de poder almacenar codigos para diferentes  tipos de lenguaje(python, r, etc.), puede generar repositorios que contengan archivos con estos lenguajes y compartirlos con otras personas las cuales pueden abrir el codigo y ejecutarlo de manera virtual.\n",
        "\n",
        "Colab es como una computadora en linea en la que puedes alamcenar archivos de programacionn u otro fin.\n",
        "\n",
        "Comunmente es llamada por las personas que se dedicana a este campo como \"EL FACEBOOK DEL PROGRAMADOR\"\n"
      ]
    },
    {
      "cell_type": "markdown",
      "metadata": {
        "id": "BltNXKZU3sS8",
        "colab_type": "text"
      },
      "source": [
        "TUPLA: es una arreglo dedatos limitados por parentesis donde cada elemento esta separado mediante comas. la caracteristica principal de este arreglo es que  NO SE PUEDE MODIFICAR Y NO TIENEN METODOS.\n",
        "\n",
        "DICCCIONARIO: es tambien  un arreglo limitado por lllaves, pero que en este caso cada elemento esta conformado por un par de datos ; una llave(key) y un valor(value) separado ambos por \":\"\n",
        "\n",
        "A si mismo cada par(palabra y significado) estaran separado mediante comas. para llamar a algun elemento de un diccionario se necesitara indicar la llave."
      ]
    },
    {
      "cell_type": "markdown",
      "metadata": {
        "id": "V8Ur06f865EE",
        "colab_type": "text"
      },
      "source": [
        "WEB SCRAPPING: es una tecnica que nos permite trabajar con datos pero llamandolos al area de trabajo mediante sus sitios web. nos permite trabajar con sitios web que pueden contener informacion organizada en una tabla u otro tipo de arreglo.\n",
        "\n",
        "para trabajar con web scrapping se necesitara importar la libreria BEAUTIFULSOUP(que me ayuda  a reconocer html) y lREQUESTS.\n"
      ]
    },
    {
      "cell_type": "markdown",
      "metadata": {
        "id": "tbnHisVx8Z1b",
        "colab_type": "text"
      },
      "source": [
        "DATA FRAME: son datos que carecen de espacialidad(no tienen el campo GEOMETRY).\n",
        "DATA FRAME: son datos que poseen espacialidad( tienen el campo GEOMETRY).\n"
      ]
    },
    {
      "cell_type": "markdown",
      "metadata": {
        "id": "8XcRPBjn9MlN",
        "colab_type": "text"
      },
      "source": [
        "TILES DE GIS WEB: son los \"base map\" que comunmente se utilizan al trabajar con el arc gis. para entenderlo mejos son como papas base ya establecidos sobre los cuales podemos exportar nuestros datos estudiados(puntos de terremotos ocurridos, shp, etc).\n",
        "EJEMPLOS:\n",
        "- 'openstreetmap'\n",
        "- 'Stamen Terrain'\n",
        "- 'MapQuest Open Aerial'\n",
        "- 'Mapbox Bright'\n",
        "- etc\n"
      ]
    },
    {
      "cell_type": "code",
      "metadata": {
        "id": "mlOQ_Yo8_bw_",
        "colab_type": "code",
        "colab": {}
      },
      "source": [
        "# paso 1 importamos la libreria pandas y le designamos un monbre reducido(pd) que nos permitirá trabajar con la libreria de una manera mas facil.\n",
        "# esta libreria nos permitirá leer los datos del csv de una manera mas faci, y a su vez la lectura de estos datos con la libreria pandas me arrojará un DataFrame\n",
        "import pandas as pd\n"
      ],
      "execution_count": 0,
      "outputs": []
    },
    {
      "cell_type": "code",
      "metadata": {
        "id": "YkmJgnsUA4Fk",
        "colab_type": "code",
        "colab": {
          "base_uri": "https://localhost:8080/",
          "height": 309
        },
        "outputId": "d3d39654-2ca3-48c1-e2a5-03da25979976"
      },
      "source": [
        "# paso 2. procedemos a realizar la lectura de nuestro archivo mediante \"pd.read\" y anexando el tipo de archivo luego de un gion bajo\n",
        "incendios = pd.read_csv(\"IncendiosForestales.csv\",sep=\";\")\n",
        "# una vez nombrado la lectura de mis archivos, importare las 5 primeras filas de mi dataframe.\n",
        "incendios.head()\n"
      ],
      "execution_count": 52,
      "outputs": [
        {
          "output_type": "execute_result",
          "data": {
            "text/html": [
              "<div>\n",
              "<style scoped>\n",
              "    .dataframe tbody tr th:only-of-type {\n",
              "        vertical-align: middle;\n",
              "    }\n",
              "\n",
              "    .dataframe tbody tr th {\n",
              "        vertical-align: top;\n",
              "    }\n",
              "\n",
              "    .dataframe thead th {\n",
              "        text-align: right;\n",
              "    }\n",
              "</style>\n",
              "<table border=\"1\" class=\"dataframe\">\n",
              "  <thead>\n",
              "    <tr style=\"text-align: right;\">\n",
              "      <th></th>\n",
              "      <th>FTE_INF</th>\n",
              "      <th>IDDPTO</th>\n",
              "      <th>NOMBDEP</th>\n",
              "      <th>IDPROV</th>\n",
              "      <th>NOMBPROV</th>\n",
              "      <th>IDDIST</th>\n",
              "      <th>NOMBDIST</th>\n",
              "      <th>INCENDIO</th>\n",
              "      <th>ACTIVIDAD</th>\n",
              "      <th>ANNO</th>\n",
              "      <th>MES_N</th>\n",
              "      <th>MES_T</th>\n",
              "      <th>PATH_ROW</th>\n",
              "      <th>COORDENADAS</th>\n",
              "    </tr>\n",
              "  </thead>\n",
              "  <tbody>\n",
              "    <tr>\n",
              "      <th>0</th>\n",
              "      <td>DMERNT</td>\n",
              "      <td>18</td>\n",
              "      <td>MOQUEGUA</td>\n",
              "      <td>1801</td>\n",
              "      <td>MARISCAL NIETO</td>\n",
              "      <td>180105</td>\n",
              "      <td>SAN CRISTOBAL</td>\n",
              "      <td>SI</td>\n",
              "      <td>PTOS NUEVOS</td>\n",
              "      <td>2003</td>\n",
              "      <td>3</td>\n",
              "      <td>MARZO</td>\n",
              "      <td>25993</td>\n",
              "      <td>-70.71220984,-16.72855589</td>\n",
              "    </tr>\n",
              "    <tr>\n",
              "      <th>1</th>\n",
              "      <td>DMERNT</td>\n",
              "      <td>18</td>\n",
              "      <td>MOQUEGUA</td>\n",
              "      <td>1801</td>\n",
              "      <td>MARISCAL NIETO</td>\n",
              "      <td>180105</td>\n",
              "      <td>SAN CRISTOBAL</td>\n",
              "      <td>SI</td>\n",
              "      <td>PTOS NUEVOS</td>\n",
              "      <td>2008</td>\n",
              "      <td>10</td>\n",
              "      <td>OCTUBRE</td>\n",
              "      <td>25993</td>\n",
              "      <td>-70.71609522,-16.719292</td>\n",
              "    </tr>\n",
              "    <tr>\n",
              "      <th>2</th>\n",
              "      <td>DMERNT</td>\n",
              "      <td>18</td>\n",
              "      <td>MOQUEGUA</td>\n",
              "      <td>1801</td>\n",
              "      <td>MARISCAL NIETO</td>\n",
              "      <td>180105</td>\n",
              "      <td>SAN CRISTOBAL</td>\n",
              "      <td>SI</td>\n",
              "      <td>PTOS NUEVOS</td>\n",
              "      <td>2003</td>\n",
              "      <td>10</td>\n",
              "      <td>OCTUBRE</td>\n",
              "      <td>25993</td>\n",
              "      <td>-70.66785747,-16.71037679</td>\n",
              "    </tr>\n",
              "    <tr>\n",
              "      <th>3</th>\n",
              "      <td>DMERNT</td>\n",
              "      <td>18</td>\n",
              "      <td>MOQUEGUA</td>\n",
              "      <td>1801</td>\n",
              "      <td>MARISCAL NIETO</td>\n",
              "      <td>180105</td>\n",
              "      <td>SAN CRISTOBAL</td>\n",
              "      <td>SI</td>\n",
              "      <td>PTOS NUEVOS</td>\n",
              "      <td>2003</td>\n",
              "      <td>3</td>\n",
              "      <td>MARZO</td>\n",
              "      <td>25993</td>\n",
              "      <td>-70.73386294,-16.7082115</td>\n",
              "    </tr>\n",
              "    <tr>\n",
              "      <th>4</th>\n",
              "      <td>DMERNT</td>\n",
              "      <td>21</td>\n",
              "      <td>PUNO</td>\n",
              "      <td>2104</td>\n",
              "      <td>CHUCUITO</td>\n",
              "      <td>210403</td>\n",
              "      <td>HUACULLANI</td>\n",
              "      <td>SI</td>\n",
              "      <td>PTOS NUEVOS</td>\n",
              "      <td>2010</td>\n",
              "      <td>9</td>\n",
              "      <td>SETIEMBRE</td>\n",
              "      <td></td>\n",
              "      <td>-69.36717752,-16.62736388</td>\n",
              "    </tr>\n",
              "  </tbody>\n",
              "</table>\n",
              "</div>"
            ],
            "text/plain": [
              "  FTE_INF  IDDPTO   NOMBDEP  ...      MES_T PATH_ROW                COORDENADAS\n",
              "0  DMERNT      18  MOQUEGUA  ...      MARZO    25993  -70.71220984,-16.72855589\n",
              "1  DMERNT      18  MOQUEGUA  ...    OCTUBRE    25993    -70.71609522,-16.719292\n",
              "2  DMERNT      18  MOQUEGUA  ...    OCTUBRE    25993  -70.66785747,-16.71037679\n",
              "3  DMERNT      18  MOQUEGUA  ...      MARZO    25993   -70.73386294,-16.7082115\n",
              "4  DMERNT      21      PUNO  ...  SETIEMBRE           -69.36717752,-16.62736388\n",
              "\n",
              "[5 rows x 14 columns]"
            ]
          },
          "metadata": {
            "tags": []
          },
          "execution_count": 52
        }
      ]
    },
    {
      "cell_type": "code",
      "metadata": {
        "id": "uEpObUJwdoiM",
        "colab_type": "code",
        "colab": {
          "base_uri": "https://localhost:8080/",
          "height": 111
        },
        "outputId": "ad431253-0eb7-428b-c10b-7b6caac542be"
      },
      "source": [
        "# creacion de un dataframe\n",
        "fd = pd.DataFrame(np.random.randn(2,2),index = [\"a\",\"b\"], columns=[\"x\",\"y\"])\n",
        "fd"
      ],
      "execution_count": 234,
      "outputs": [
        {
          "output_type": "execute_result",
          "data": {
            "text/html": [
              "<div>\n",
              "<style scoped>\n",
              "    .dataframe tbody tr th:only-of-type {\n",
              "        vertical-align: middle;\n",
              "    }\n",
              "\n",
              "    .dataframe tbody tr th {\n",
              "        vertical-align: top;\n",
              "    }\n",
              "\n",
              "    .dataframe thead th {\n",
              "        text-align: right;\n",
              "    }\n",
              "</style>\n",
              "<table border=\"1\" class=\"dataframe\">\n",
              "  <thead>\n",
              "    <tr style=\"text-align: right;\">\n",
              "      <th></th>\n",
              "      <th>x</th>\n",
              "      <th>y</th>\n",
              "    </tr>\n",
              "  </thead>\n",
              "  <tbody>\n",
              "    <tr>\n",
              "      <th>a</th>\n",
              "      <td>0.465890</td>\n",
              "      <td>-0.409956</td>\n",
              "    </tr>\n",
              "    <tr>\n",
              "      <th>b</th>\n",
              "      <td>0.854403</td>\n",
              "      <td>-1.244871</td>\n",
              "    </tr>\n",
              "  </tbody>\n",
              "</table>\n",
              "</div>"
            ],
            "text/plain": [
              "          x         y\n",
              "a  0.465890 -0.409956\n",
              "b  0.854403 -1.244871"
            ]
          },
          "metadata": {
            "tags": []
          },
          "execution_count": 234
        }
      ]
    },
    {
      "cell_type": "code",
      "metadata": {
        "id": "mT-oTuZ8Bvc8",
        "colab_type": "code",
        "colab": {
          "base_uri": "https://localhost:8080/",
          "height": 34
        },
        "outputId": "77daee68-e065-45ee-fb8b-98cf216983d2"
      },
      "source": [
        "# para compravar el tipo de dato que es mi archivo \"incendios\" usamos TYPE\n",
        "type(incendios)\n",
        "# como vemos el archivo incendios ya es una DataFrame"
      ],
      "execution_count": 8,
      "outputs": [
        {
          "output_type": "execute_result",
          "data": {
            "text/plain": [
              "pandas.core.frame.DataFrame"
            ]
          },
          "metadata": {
            "tags": []
          },
          "execution_count": 8
        }
      ]
    },
    {
      "cell_type": "code",
      "metadata": {
        "id": "qwSxN9tUQPT7",
        "colab_type": "code",
        "colab": {
          "base_uri": "https://localhost:8080/",
          "height": 69
        },
        "outputId": "441c5b56-2537-4d66-d054-a382efcd9068"
      },
      "source": [
        "# incendios en loreto\n",
        "lor = incendios[(incendios[\"NOMBPROV\"] == \"LORETO\") & (incendios[\"INCENDIO\"] == \"SI\")]\n",
        "lor"
      ],
      "execution_count": 67,
      "outputs": [
        {
          "output_type": "execute_result",
          "data": {
            "text/html": [
              "<div>\n",
              "<style scoped>\n",
              "    .dataframe tbody tr th:only-of-type {\n",
              "        vertical-align: middle;\n",
              "    }\n",
              "\n",
              "    .dataframe tbody tr th {\n",
              "        vertical-align: top;\n",
              "    }\n",
              "\n",
              "    .dataframe thead th {\n",
              "        text-align: right;\n",
              "    }\n",
              "</style>\n",
              "<table border=\"1\" class=\"dataframe\">\n",
              "  <thead>\n",
              "    <tr style=\"text-align: right;\">\n",
              "      <th></th>\n",
              "      <th>FTE_INF</th>\n",
              "      <th>IDDPTO</th>\n",
              "      <th>NOMBDEP</th>\n",
              "      <th>IDPROV</th>\n",
              "      <th>NOMBPROV</th>\n",
              "      <th>IDDIST</th>\n",
              "      <th>NOMBDIST</th>\n",
              "      <th>INCENDIO</th>\n",
              "      <th>ACTIVIDAD</th>\n",
              "      <th>ANNO</th>\n",
              "      <th>MES_N</th>\n",
              "      <th>MES_T</th>\n",
              "      <th>PATH_ROW</th>\n",
              "      <th>COORDENADAS</th>\n",
              "    </tr>\n",
              "  </thead>\n",
              "  <tbody>\n",
              "  </tbody>\n",
              "</table>\n",
              "</div>"
            ],
            "text/plain": [
              "Empty DataFrame\n",
              "Columns: [FTE_INF, IDDPTO, NOMBDEP, IDPROV, NOMBPROV, IDDIST, NOMBDIST, INCENDIO, ACTIVIDAD, ANNO, MES_N, MES_T, PATH_ROW, COORDENADAS]\n",
              "Index: []"
            ]
          },
          "metadata": {
            "tags": []
          },
          "execution_count": 67
        }
      ]
    },
    {
      "cell_type": "code",
      "metadata": {
        "id": "LUJpzwaDO397",
        "colab_type": "code",
        "colab": {
          "base_uri": "https://localhost:8080/",
          "height": 69
        },
        "outputId": "647760f0-34e7-432e-abd3-945f79e70ec7"
      },
      "source": [
        "# llamamos de la columna nombprov a los que se llamen LORETO\n",
        "lor = incendios[(incendios[\"NOMBPROV\"] == \"LORETO\") & (incendios[\"INCENDIO\"] == \"SI\") & (incendios[\"ANNO\"] == 2010)]\n",
        "lor"
      ],
      "execution_count": 63,
      "outputs": [
        {
          "output_type": "execute_result",
          "data": {
            "text/html": [
              "<div>\n",
              "<style scoped>\n",
              "    .dataframe tbody tr th:only-of-type {\n",
              "        vertical-align: middle;\n",
              "    }\n",
              "\n",
              "    .dataframe tbody tr th {\n",
              "        vertical-align: top;\n",
              "    }\n",
              "\n",
              "    .dataframe thead th {\n",
              "        text-align: right;\n",
              "    }\n",
              "</style>\n",
              "<table border=\"1\" class=\"dataframe\">\n",
              "  <thead>\n",
              "    <tr style=\"text-align: right;\">\n",
              "      <th></th>\n",
              "      <th>FTE_INF</th>\n",
              "      <th>IDDPTO</th>\n",
              "      <th>NOMBDEP</th>\n",
              "      <th>IDPROV</th>\n",
              "      <th>NOMBPROV</th>\n",
              "      <th>IDDIST</th>\n",
              "      <th>NOMBDIST</th>\n",
              "      <th>INCENDIO</th>\n",
              "      <th>ACTIVIDAD</th>\n",
              "      <th>ANNO</th>\n",
              "      <th>MES_N</th>\n",
              "      <th>MES_T</th>\n",
              "      <th>PATH_ROW</th>\n",
              "      <th>COORDENADAS</th>\n",
              "    </tr>\n",
              "  </thead>\n",
              "  <tbody>\n",
              "  </tbody>\n",
              "</table>\n",
              "</div>"
            ],
            "text/plain": [
              "Empty DataFrame\n",
              "Columns: [FTE_INF, IDDPTO, NOMBDEP, IDPROV, NOMBPROV, IDDIST, NOMBDIST, INCENDIO, ACTIVIDAD, ANNO, MES_N, MES_T, PATH_ROW, COORDENADAS]\n",
              "Index: []"
            ]
          },
          "metadata": {
            "tags": []
          },
          "execution_count": 63
        }
      ]
    },
    {
      "cell_type": "code",
      "metadata": {
        "id": "E71r4JXsL6os",
        "colab_type": "code",
        "colab": {
          "base_uri": "https://localhost:8080/",
          "height": 69
        },
        "outputId": "4942308a-1067-4845-c9b2-f798085c1e99"
      },
      "source": [
        "# VIMOS QUE NO EXISTE LA PRIVINCIA LORETO DENTRO DE LA TABLA POR ENDE NO TIENE DATOS Y NO SABEMOS SI HUBO INCENDIOS\n",
        "data = incendios[(incendios[\"NOMBPROV\"] == \"JAEN\") & (incendios[\"INCENDIO\"] == \"SI\") & (incendios[\"ANNO\"] == 2010)]\n",
        "data\n",
        "# vemos que para jaen si hay datos pero no hay incendios en el 2010"
      ],
      "execution_count": 62,
      "outputs": [
        {
          "output_type": "execute_result",
          "data": {
            "text/html": [
              "<div>\n",
              "<style scoped>\n",
              "    .dataframe tbody tr th:only-of-type {\n",
              "        vertical-align: middle;\n",
              "    }\n",
              "\n",
              "    .dataframe tbody tr th {\n",
              "        vertical-align: top;\n",
              "    }\n",
              "\n",
              "    .dataframe thead th {\n",
              "        text-align: right;\n",
              "    }\n",
              "</style>\n",
              "<table border=\"1\" class=\"dataframe\">\n",
              "  <thead>\n",
              "    <tr style=\"text-align: right;\">\n",
              "      <th></th>\n",
              "      <th>FTE_INF</th>\n",
              "      <th>IDDPTO</th>\n",
              "      <th>NOMBDEP</th>\n",
              "      <th>IDPROV</th>\n",
              "      <th>NOMBPROV</th>\n",
              "      <th>IDDIST</th>\n",
              "      <th>NOMBDIST</th>\n",
              "      <th>INCENDIO</th>\n",
              "      <th>ACTIVIDAD</th>\n",
              "      <th>ANNO</th>\n",
              "      <th>MES_N</th>\n",
              "      <th>MES_T</th>\n",
              "      <th>PATH_ROW</th>\n",
              "      <th>COORDENADAS</th>\n",
              "    </tr>\n",
              "  </thead>\n",
              "  <tbody>\n",
              "  </tbody>\n",
              "</table>\n",
              "</div>"
            ],
            "text/plain": [
              "Empty DataFrame\n",
              "Columns: [FTE_INF, IDDPTO, NOMBDEP, IDPROV, NOMBPROV, IDDIST, NOMBDIST, INCENDIO, ACTIVIDAD, ANNO, MES_N, MES_T, PATH_ROW, COORDENADAS]\n",
              "Index: []"
            ]
          },
          "metadata": {
            "tags": []
          },
          "execution_count": 62
        }
      ]
    },
    {
      "cell_type": "code",
      "metadata": {
        "id": "RxjRLkraCWmk",
        "colab_type": "code",
        "colab": {}
      },
      "source": [
        "from geopy.geocoders import Nominatim"
      ],
      "execution_count": 0,
      "outputs": []
    },
    {
      "cell_type": "code",
      "metadata": {
        "id": "-wSRPMnkHZkj",
        "colab_type": "code",
        "colab": {
          "base_uri": "https://localhost:8080/",
          "height": 88
        },
        "outputId": "7d7431fb-ffef-4b8a-9a7d-523eef3575f8"
      },
      "source": [
        "# extraemos la avenida de estas coordenadas que son del distrito de villa rica\n",
        "nominacion = Nominatim()\n",
        "villa_rica = nominacion.reverse(\"-12.057615, -77.082842\")\n",
        "print(villa_rica.address)"
      ],
      "execution_count": 140,
      "outputs": [
        {
          "output_type": "stream",
          "text": [
            "/usr/local/lib/python3.6/dist-packages/geopy/geocoders/osm.py:143: UserWarning: Using Nominatim with the default \"geopy/1.17.0\" `user_agent` is strongly discouraged, as it violates Nominatim's ToS https://operations.osmfoundation.org/policies/nominatim/ and may possibly cause 403 and 429 HTTP errors. Please specify a custom `user_agent` with `Nominatim(user_agent=\"my-application\")` or by overriding the default `user_agent`: `geopy.geocoders.options.default_user_agent = \"my-application\"`. In geopy 2.0 this will become an exception.\n",
            "  UserWarning\n"
          ],
          "name": "stderr"
        },
        {
          "output_type": "stream",
          "text": [
            "Estadio de la UNMSM, Avenida Carlos Germán Amezaga, Urbanizacion Las Brisas, Lima, CALLAO 02, Perú\n"
          ],
          "name": "stdout"
        }
      ]
    },
    {
      "cell_type": "code",
      "metadata": {
        "id": "egi_M-07Jgvr",
        "colab_type": "code",
        "colab": {
          "base_uri": "https://localhost:8080/",
          "height": 34
        },
        "outputId": "78007dcc-a685-467f-d787-270f1279a005"
      },
      "source": [
        "type(villa_rica)"
      ],
      "execution_count": 39,
      "outputs": [
        {
          "output_type": "execute_result",
          "data": {
            "text/plain": [
              "geopy.location.Location"
            ]
          },
          "metadata": {
            "tags": []
          },
          "execution_count": 39
        }
      ]
    },
    {
      "cell_type": "code",
      "metadata": {
        "id": "v0gGwIIXRwKG",
        "colab_type": "code",
        "colab": {}
      },
      "source": [
        "x = -77.082842\n",
        "y = -12.057615"
      ],
      "execution_count": 0,
      "outputs": []
    },
    {
      "cell_type": "code",
      "metadata": {
        "id": "jQkRS-MwTlXr",
        "colab_type": "code",
        "colab": {}
      },
      "source": [
        "import pandas as pd\n",
        "import numpy as np"
      ],
      "execution_count": 0,
      "outputs": []
    },
    {
      "cell_type": "code",
      "metadata": {
        "id": "yVw_gqyfS-Is",
        "colab_type": "code",
        "colab": {
          "base_uri": "https://localhost:8080/",
          "height": 80
        },
        "outputId": "0d0c8c4a-f672-4691-8bac-11a63c704569"
      },
      "source": [
        "a = pd.DataFrame(np.random.randn(1,2),index = [\"villa rica\"], columns=[\"x\",\"y\"])\n",
        "a"
      ],
      "execution_count": 227,
      "outputs": [
        {
          "output_type": "execute_result",
          "data": {
            "text/html": [
              "<div>\n",
              "<style scoped>\n",
              "    .dataframe tbody tr th:only-of-type {\n",
              "        vertical-align: middle;\n",
              "    }\n",
              "\n",
              "    .dataframe tbody tr th {\n",
              "        vertical-align: top;\n",
              "    }\n",
              "\n",
              "    .dataframe thead th {\n",
              "        text-align: right;\n",
              "    }\n",
              "</style>\n",
              "<table border=\"1\" class=\"dataframe\">\n",
              "  <thead>\n",
              "    <tr style=\"text-align: right;\">\n",
              "      <th></th>\n",
              "      <th>x</th>\n",
              "      <th>y</th>\n",
              "    </tr>\n",
              "  </thead>\n",
              "  <tbody>\n",
              "    <tr>\n",
              "      <th>villa rica</th>\n",
              "      <td>-0.185163</td>\n",
              "      <td>-0.280048</td>\n",
              "    </tr>\n",
              "  </tbody>\n",
              "</table>\n",
              "</div>"
            ],
            "text/plain": [
              "                   x         y\n",
              "villa rica -0.185163 -0.280048"
            ]
          },
          "metadata": {
            "tags": []
          },
          "execution_count": 227
        }
      ]
    },
    {
      "cell_type": "code",
      "metadata": {
        "id": "oNtdJ9LZTzfj",
        "colab_type": "code",
        "colab": {
          "base_uri": "https://localhost:8080/",
          "height": 80
        },
        "outputId": "f1c21a4c-c3ed-45c2-af0f-4303af543ac7"
      },
      "source": [
        "a[\"x\"] = x\n",
        "a[\"y\"]= y\n",
        "a"
      ],
      "execution_count": 228,
      "outputs": [
        {
          "output_type": "execute_result",
          "data": {
            "text/html": [
              "<div>\n",
              "<style scoped>\n",
              "    .dataframe tbody tr th:only-of-type {\n",
              "        vertical-align: middle;\n",
              "    }\n",
              "\n",
              "    .dataframe tbody tr th {\n",
              "        vertical-align: top;\n",
              "    }\n",
              "\n",
              "    .dataframe thead th {\n",
              "        text-align: right;\n",
              "    }\n",
              "</style>\n",
              "<table border=\"1\" class=\"dataframe\">\n",
              "  <thead>\n",
              "    <tr style=\"text-align: right;\">\n",
              "      <th></th>\n",
              "      <th>x</th>\n",
              "      <th>y</th>\n",
              "    </tr>\n",
              "  </thead>\n",
              "  <tbody>\n",
              "    <tr>\n",
              "      <th>villa rica</th>\n",
              "      <td>-77.082842</td>\n",
              "      <td>-12.057615</td>\n",
              "    </tr>\n",
              "  </tbody>\n",
              "</table>\n",
              "</div>"
            ],
            "text/plain": [
              "                    x          y\n",
              "villa rica -77.082842 -12.057615"
            ]
          },
          "metadata": {
            "tags": []
          },
          "execution_count": 228
        }
      ]
    },
    {
      "cell_type": "code",
      "metadata": {
        "id": "hv0uMXGtSJCj",
        "colab_type": "code",
        "colab": {
          "base_uri": "https://localhost:8080/",
          "height": 394
        },
        "outputId": "c1a0037d-a9c0-4887-eb9c-6b84fb073c64"
      },
      "source": [
        "!pip install fiona\n",
        "!pip install geopandas\n",
        "from geopandas import GeoDataFrame\n",
        "from shapely.geometry import Point\n",
        "import fiona"
      ],
      "execution_count": 205,
      "outputs": [
        {
          "output_type": "stream",
          "text": [
            "Requirement already satisfied: fiona in /usr/local/lib/python3.6/dist-packages (1.8.6)\n",
            "Requirement already satisfied: attrs>=17 in /usr/local/lib/python3.6/dist-packages (from fiona) (19.1.0)\n",
            "Requirement already satisfied: six>=1.7 in /usr/local/lib/python3.6/dist-packages (from fiona) (1.12.0)\n",
            "Requirement already satisfied: cligj>=0.5 in /usr/local/lib/python3.6/dist-packages (from fiona) (0.5.0)\n",
            "Requirement already satisfied: click-plugins>=1.0 in /usr/local/lib/python3.6/dist-packages (from fiona) (1.1.1)\n",
            "Requirement already satisfied: munch in /usr/local/lib/python3.6/dist-packages (from fiona) (2.3.2)\n",
            "Requirement already satisfied: click<8,>=4.0 in /usr/local/lib/python3.6/dist-packages (from fiona) (7.0)\n",
            "Requirement already satisfied: geopandas in /usr/local/lib/python3.6/dist-packages (0.5.0)\n",
            "Requirement already satisfied: pyproj in /usr/local/lib/python3.6/dist-packages (from geopandas) (2.2.1)\n",
            "Requirement already satisfied: fiona in /usr/local/lib/python3.6/dist-packages (from geopandas) (1.8.6)\n",
            "Requirement already satisfied: pandas in /usr/local/lib/python3.6/dist-packages (from geopandas) (0.24.2)\n",
            "Requirement already satisfied: shapely in /usr/local/lib/python3.6/dist-packages (from geopandas) (1.6.4.post2)\n",
            "Requirement already satisfied: cligj>=0.5 in /usr/local/lib/python3.6/dist-packages (from fiona->geopandas) (0.5.0)\n",
            "Requirement already satisfied: click-plugins>=1.0 in /usr/local/lib/python3.6/dist-packages (from fiona->geopandas) (1.1.1)\n",
            "Requirement already satisfied: click<8,>=4.0 in /usr/local/lib/python3.6/dist-packages (from fiona->geopandas) (7.0)\n",
            "Requirement already satisfied: six>=1.7 in /usr/local/lib/python3.6/dist-packages (from fiona->geopandas) (1.12.0)\n",
            "Requirement already satisfied: munch in /usr/local/lib/python3.6/dist-packages (from fiona->geopandas) (2.3.2)\n",
            "Requirement already satisfied: attrs>=17 in /usr/local/lib/python3.6/dist-packages (from fiona->geopandas) (19.1.0)\n",
            "Requirement already satisfied: numpy>=1.12.0 in /usr/local/lib/python3.6/dist-packages (from pandas->geopandas) (1.16.4)\n",
            "Requirement already satisfied: python-dateutil>=2.5.0 in /usr/local/lib/python3.6/dist-packages (from pandas->geopandas) (2.5.3)\n",
            "Requirement already satisfied: pytz>=2011k in /usr/local/lib/python3.6/dist-packages (from pandas->geopandas) (2018.9)\n"
          ],
          "name": "stdout"
        }
      ]
    },
    {
      "cell_type": "code",
      "metadata": {
        "id": "3nM7NGEYRloL",
        "colab_type": "code",
        "colab": {}
      },
      "source": [
        "geometry = [Point(xy) for xy in zip(a.x, a.y)]"
      ],
      "execution_count": 0,
      "outputs": []
    },
    {
      "cell_type": "code",
      "metadata": {
        "id": "iU2O69dGR_YS",
        "colab_type": "code",
        "colab": {}
      },
      "source": [
        "crs = {\"init\":\"epsg:32718\"}"
      ],
      "execution_count": 0,
      "outputs": []
    },
    {
      "cell_type": "code",
      "metadata": {
        "id": "WP9nGwOuR_HD",
        "colab_type": "code",
        "colab": {}
      },
      "source": [
        "geo_df = GeoDataFrame(a , geometry = geometry, crs=crs)"
      ],
      "execution_count": 0,
      "outputs": []
    },
    {
      "cell_type": "code",
      "metadata": {
        "id": "cGLn5U3AUn2j",
        "colab_type": "code",
        "colab": {
          "base_uri": "https://localhost:8080/",
          "height": 286
        },
        "outputId": "f26a4c28-8f93-4538-c836-dea158a8c4d8"
      },
      "source": [
        "geo_df.plot()"
      ],
      "execution_count": 230,
      "outputs": [
        {
          "output_type": "execute_result",
          "data": {
            "text/plain": [
              "<matplotlib.axes._subplots.AxesSubplot at 0x7fab3db517f0>"
            ]
          },
          "metadata": {
            "tags": []
          },
          "execution_count": 230
        },
        {
          "output_type": "display_data",
          "data": {
            "image/png": "[encoded data removed]",
            "text/plain": [
              "<Figure size 432x288 with 1 Axes>"
            ]
          },
          "metadata": {
            "tags": []
          }
        }
      ]
    },
    {
      "cell_type": "code",
      "metadata": {
        "id": "P2YPMyuLSVYz",
        "colab_type": "code",
        "colab": {}
      },
      "source": [
        "geojson = geo_df.to_crs(epsg=\"4326\").to_json()"
      ],
      "execution_count": 0,
      "outputs": []
    },
    {
      "cell_type": "code",
      "metadata": {
        "id": "PYkTxkmsUF5L",
        "colab_type": "code",
        "colab": {
          "base_uri": "https://localhost:8080/",
          "height": 604
        },
        "outputId": "1fc9bfd1-316a-4473-fa12-b629ce8e0a5f"
      },
      "source": [
        "import folium\n",
        "mapa = folium.Map([-12,-77], zoom_start=12, tiles=\"Stamen Terrain\") #condiciones del mapa\n",
        "puntos = folium.features.GeoJson(geojson) #importamos los puntos(que estan en formato geojson)\n",
        "mapa.add_children(puntos) #añadimos los puntos al mapa creado\n",
        "mapa"
      ],
      "execution_count": 232,
      "outputs": [
        {
          "output_type": "stream",
          "text": [
            "/usr/local/lib/python3.6/dist-packages/ipykernel_launcher.py:4: FutureWarning: Method `add_children` is deprecated. Please use `add_child` instead.\n",
            "  after removing the cwd from sys.path.\n"
          ],
          "name": "stderr"
        },
        {
          "output_type": "execute_result",
          "data": {
            "text/html": [
              "<div style=\"width:100%;\"><div style=\"position:relative;width:100%;height:0;padding-bottom:60%;\"><iframe src=\"data:text/html;charset=utf-8;base64,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\" style=\"position:absolute;width:100%;height:100%;left:0;top:0;border:none !important;\" allowfullscreen webkitallowfullscreen mozallowfullscreen></iframe></div></div>"
            ],
            "text/plain": [
              "<folium.folium.Map at 0x7fab3db1b278>"
            ]
          },
          "metadata": {
            "tags": []
          },
          "execution_count": 232
        }
      ]
    },
    {
      "cell_type": "markdown",
      "metadata": {
        "id": "_1el_c7actHK",
        "colab_type": "text"
      },
      "source": [
        "OBSERVACION: LA PREGUNTA 5 ESTA DESARROLLADA SOBRE CADA CODIGO QUE SE CORRIO PARA LA PREGUNTA 2 A MODO DE COMENTARIO"
      ]
    }
  ]
}